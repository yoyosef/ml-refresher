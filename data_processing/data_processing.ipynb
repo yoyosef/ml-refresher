{
 "cells": [
  {
   "cell_type": "code",
   "execution_count": null,
   "id": "f82a6f88-1ac7-45b7-92f7-d808820e686b",
   "metadata": {},
   "outputs": [],
   "source": [
    "# Pre-processing"
   ]
  },
  {
   "cell_type": "code",
   "execution_count": 49,
   "id": "28d307c3-27df-4706-969b-f7d55e2ea866",
   "metadata": {},
   "outputs": [],
   "source": [
    "import numpy as np\n",
    "import pandas as pd"
   ]
  },
  {
   "cell_type": "code",
   "execution_count": 50,
   "id": "7a88ba3c-b956-40b8-8852-520ae4da4ab9",
   "metadata": {},
   "outputs": [],
   "source": [
    "dataset = pd.read_csv('Data.csv')\n",
    "X = dataset.iloc[ : , :-1].values\n",
    "Y = dataset.iloc[ : , 3].values"
   ]
  },
  {
   "cell_type": "code",
   "execution_count": 51,
   "id": "daf31143-283b-4dcb-90aa-f4fbe7e9b75c",
   "metadata": {},
   "outputs": [],
   "source": [
    "from sklearn.impute import SimpleImputer\n",
    "import numpy as np\n",
    "\n",
    "# This imputer substitutes missing values with mean of the rest of the values in that column\n",
    "# https://scikit-learn.org/stable/modules/generated/sklearn.impute.SimpleImputer.html\n",
    "imputer = SimpleImputer(missing_values=np.nan, strategy='mean')\n",
    "\n",
    "# learns the distribution of values in the the 1-2 columns (counting from 0)\n",
    "imputer = imputer.fit(X[ : , 1:3])\n",
    "\n",
    "# transforms the data inputted using the imputer strategy specified above (mean)\n",
    "X[ : , 1:3] = imputer.transform(X[ : , 1:3])"
   ]
  },
  {
   "cell_type": "code",
   "execution_count": 52,
   "id": "4594fe76-1081-4bd2-981a-fdb4005d5548",
   "metadata": {},
   "outputs": [],
   "source": [
    "from sklearn.preprocessing import LabelEncoder, OneHotEncoder\n",
    "# The countries get fitted to numerical labels. For example [\"Germany\", \"France\", \"France\"] --> [0, 1, 1]\n",
    "labelencoder_X = LabelEncoder()\n",
    "X[ : , 0] = labelencoder_X.fit_transform(X[ : , 0])"
   ]
  },
  {
   "cell_type": "code",
   "execution_count": 60,
   "id": "a9996e6a-3a21-4efd-9977-84d78e5c5c4a",
   "metadata": {},
   "outputs": [],
   "source": [
    "# https://datascience.stackexchange.com/questions/71804/how-to-perform-one-hot-encoding-on-multiple-categorical-columns\n",
    "# https://scikit-learn.org/stable/modules/generated/sklearn.preprocessing.OneHotEncoder.html\n",
    "# Determine categories from training data\n",
    "onehotencoder = OneHotEncoder(categories = 'auto')\n",
    "encoded = onehotencoder.fit_transform(X[ : , 0:1]).toarray()"
   ]
  },
  {
   "cell_type": "code",
   "execution_count": 61,
   "id": "dd62a3b2-dc7a-495d-825c-d4fbc2d84a2c",
   "metadata": {
    "scrolled": true
   },
   "outputs": [
    {
     "data": {
      "text/plain": [
       "array([[0, 44.0, 72000.0],\n",
       "       [2, 27.0, 48000.0],\n",
       "       [1, 30.0, 54000.0],\n",
       "       [2, 38.0, 61000.0],\n",
       "       [1, 40.0, 63777.77777777778],\n",
       "       [0, 35.0, 58000.0],\n",
       "       [2, 38.77777777777778, 52000.0],\n",
       "       [0, 48.0, 79000.0],\n",
       "       [1, 50.0, 83000.0],\n",
       "       [0, 37.0, 67000.0]], dtype=object)"
      ]
     },
     "execution_count": 61,
     "metadata": {},
     "output_type": "execute_result"
    }
   ],
   "source": [
    "X"
   ]
  },
  {
   "cell_type": "code",
   "execution_count": 62,
   "id": "60803ffe-d678-4d38-8cc6-224153877dbf",
   "metadata": {},
   "outputs": [
    {
     "data": {
      "text/plain": [
       "array([[1., 0., 0.],\n",
       "       [0., 0., 1.],\n",
       "       [0., 1., 0.],\n",
       "       [0., 0., 1.],\n",
       "       [0., 1., 0.],\n",
       "       [1., 0., 0.],\n",
       "       [0., 0., 1.],\n",
       "       [1., 0., 0.],\n",
       "       [0., 1., 0.],\n",
       "       [1., 0., 0.]])"
      ]
     },
     "execution_count": 62,
     "metadata": {},
     "output_type": "execute_result"
    }
   ],
   "source": [
    "encoded"
   ]
  },
  {
   "cell_type": "code",
   "execution_count": 63,
   "id": "2aa2898a-0dce-4614-87cd-c8644d63fcb0",
   "metadata": {},
   "outputs": [],
   "source": [
    "concatenated_array_columns = np.concatenate((encoded, X[:, 1:]), axis=1)"
   ]
  },
  {
   "cell_type": "code",
   "execution_count": 65,
   "id": "2bd17e79-3e5c-4758-9292-40b093d8e062",
   "metadata": {},
   "outputs": [],
   "source": [
    "X = concatenated_array_columns"
   ]
  },
  {
   "cell_type": "code",
   "execution_count": 66,
   "id": "10cc7572-667f-4319-ad51-628d068f6efe",
   "metadata": {},
   "outputs": [],
   "source": [
    "labelencoder_Y = LabelEncoder()\n",
    "Y =  labelencoder_Y.fit_transform(Y)"
   ]
  },
  {
   "cell_type": "code",
   "execution_count": 72,
   "id": "20112a2d-1b0a-4ed0-8411-51df2ab405b8",
   "metadata": {},
   "outputs": [],
   "source": [
    "from sklearn.model_selection import train_test_split\n",
    "\n",
    "X_train, X_test, Y_train, Y_test = train_test_split( X , Y , \n",
    "                                                    test_size = 0.2, # Setting aside 80% for training and 20% for testing\n",
    "                                                    random_state = 0) # Random_state sets the rng for reproducibility accross machines\n",
    "                                                                     # This is primarily useful for reproducing bugs or results "
   ]
  },
  {
   "cell_type": "code",
   "execution_count": 73,
   "id": "f17e72b7-3f62-4bc8-9b03-bffa8885a054",
   "metadata": {},
   "outputs": [],
   "source": [
    "# from sklearn.preprocessing import StandardScaler\n",
    "\n",
    "# sc_X = StandardScaler()\n",
    "# X_train = sc_X.fit_transform(X_train)\n",
    "# X_test = sc_X.fit_transform(X_test)"
   ]
  },
  {
   "cell_type": "code",
   "execution_count": 74,
   "id": "23b3464c-756f-484d-b9b5-4a4804324c6b",
   "metadata": {},
   "outputs": [],
   "source": [
    "import numpy as np\n",
    "from sklearn.preprocessing import StandardScaler\n",
    "\n",
    "scaler = StandardScaler()\n",
    "\n",
    "def scale_columns(data):\n",
    "    salary_column = data[:, -1].reshape(-1, 1)  # Reshape to 2D array for scaler\n",
    "    age_column = data[:, -2].reshape(-1, 1)  # Reshape to 2D array for scaler\n",
    "    \n",
    "    # Apply StandardScaler to the selected column\n",
    "    scaled_salary = scaler.fit_transform(salary_column)\n",
    "    scaled_age = scaler.fit_transform(age_column)\n",
    "    \n",
    "    # Replace the original 'salary' column with the scaled one\n",
    "    data[:, -1] = scaled_salary.flatten()  # Flatten back to 1D for assignment\n",
    "    data[:, -2] = scaled_age.flatten()  # Flatten back to 1D for assignment"
   ]
  },
  {
   "cell_type": "code",
   "execution_count": 75,
   "id": "60ead3fc-d8bb-4f90-a4f2-361379a53461",
   "metadata": {},
   "outputs": [
    {
     "data": {
      "text/plain": [
       "array([[0.0, 1.0, 0.0, 0.2630675731713538, 0.1238147854838185],\n",
       "       [1.0, 0.0, 0.0, -0.25350147960148617, 0.4617563176278856],\n",
       "       [0.0, 0.0, 1.0, -1.9753983221776195, -1.5309334063940294],\n",
       "       [0.0, 0.0, 1.0, 0.05261351463427101, -1.1114197802841526],\n",
       "       [1.0, 0.0, 0.0, 1.6405850472322605, 1.7202971959575162],\n",
       "       [0.0, 0.0, 1.0, -0.08131179534387283, -0.16751412153692966],\n",
       "       [1.0, 0.0, 0.0, 0.9518263102018072, 0.9861483502652316],\n",
       "       [1.0, 0.0, 0.0, -0.5978808481167128, -0.48214934111933727]],\n",
       "      dtype=object)"
      ]
     },
     "execution_count": 75,
     "metadata": {},
     "output_type": "execute_result"
    }
   ],
   "source": [
    "X_train"
   ]
  },
  {
   "cell_type": "code",
   "execution_count": null,
   "id": "12111d91-1c86-48f1-8e4a-26a94ce88cf9",
   "metadata": {},
   "outputs": [],
   "source": []
  },
  {
   "cell_type": "code",
   "execution_count": null,
   "id": "868d3ac8-474a-47d5-8b0b-914072c5e1ad",
   "metadata": {},
   "outputs": [],
   "source": [
    "# Data Analysis"
   ]
  },
  {
   "cell_type": "code",
   "execution_count": null,
   "id": "a267fe73-7e18-4e22-9390-84d9aedd0ff7",
   "metadata": {},
   "outputs": [],
   "source": []
  }
 ],
 "metadata": {
  "kernelspec": {
   "display_name": "Python 3 (ipykernel)",
   "language": "python",
   "name": "python3"
  },
  "language_info": {
   "codemirror_mode": {
    "name": "ipython",
    "version": 3
   },
   "file_extension": ".py",
   "mimetype": "text/x-python",
   "name": "python",
   "nbconvert_exporter": "python",
   "pygments_lexer": "ipython3",
   "version": "3.10.11"
  }
 },
 "nbformat": 4,
 "nbformat_minor": 5
}
